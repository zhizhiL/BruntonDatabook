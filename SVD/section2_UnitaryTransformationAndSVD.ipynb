{
 "cells": [
  {
   "cell_type": "code",
   "execution_count": 2,
   "metadata": {},
   "outputs": [],
   "source": [
    "## In SVD, X=U*S*VT can be seen as vector space rotation (by unitary matrices U, V)\n",
    "## with stretching and compressing by the diagonal matrix S.\n",
    "## In this example, we will consider a vector space of unit vectors of R3x3 (that forms a sphere)\n",
    "## and rotate it with a rotation matrix and stretch it with a diagonal matrix\n",
    "## the resulted new vector space are supposed to have a SVD composed of the rotation matrix and stretching matrx\n",
    "\n",
    "import matplotlib.pyplot as plt\n",
    "import numpy as np"
   ]
  },
  {
   "cell_type": "code",
   "execution_count": 20,
   "metadata": {},
   "outputs": [],
   "source": [
    "# First, we build the rotation matrix X which is a product of 3 sub-rotation matrix Rx, Ry, Rz around the x, y, z axes respectively\n",
    "theta = [np.pi/15, -np.pi/9, -np.pi/20]\n",
    "th1, th2, th3 = theta\n",
    "sigma = [3, 1, 0.5]\n",
    "stretch = np.diag(sigma)\n",
    "\n",
    "Rx = np.array([[1,0,0],\n",
    "               [0, np.cos(th1), -np.sin(th1)],\n",
    "               [0, np.sin(th1), np.cos(th1)]]) \n",
    "\n",
    "Ry = np.array([[np.cos(th2), 0, np.sin(th2)], \n",
    "               [0, 1, 0], \n",
    "               [-np.sin(th2), 0, np.cos(th2)]])\n",
    "\n",
    "\n",
    "Rz = np.array([[np.cos(th3), -np.sin(th3), 0],\n",
    "               [np.sin(th3), np.cos(th3), 0], \n",
    "               [0, 0, 1]])\n",
    "\n",
    "UT = Rx @ Ry @ Rz \n",
    "X = UT @ stretch\n",
    "\n",
    "# UT Is essentially the unitary matrix U in SVD of X\n",
    "# stretch is the Sig matrix in SVD of X\n",
    "# the V matrix in SVD of X is an Identity matrix of 3x3\n",
    "# now verify if the above transformations result in the SVD matrices as expected\n",
    "U, S, VT = np.linalg.svd(X, full_matrices = False)\n",
    "\n",
    "### plot the surfaces (unfinished) ###"
   ]
  }
 ],
 "metadata": {
  "kernelspec": {
   "display_name": "Python 3.8.13 ('base')",
   "language": "python",
   "name": "python3"
  },
  "language_info": {
   "codemirror_mode": {
    "name": "ipython",
    "version": 3
   },
   "file_extension": ".py",
   "mimetype": "text/x-python",
   "name": "python",
   "nbconvert_exporter": "python",
   "pygments_lexer": "ipython3",
   "version": "3.8.13"
  },
  "orig_nbformat": 4,
  "vscode": {
   "interpreter": {
    "hash": "1d68f4eaf28c6ab27c485c8f3a81d14dfda914c0d32b04c1a6d59182d2498476"
   }
  }
 },
 "nbformat": 4,
 "nbformat_minor": 2
}
